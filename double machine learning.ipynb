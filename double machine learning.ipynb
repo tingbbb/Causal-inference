{
 "cells": [
  {
   "cell_type": "code",
   "execution_count": 1,
   "metadata": {},
   "outputs": [],
   "source": [
    "import pandas as pd\n",
    "import numpy as np\n",
    "import matplotlib.pyplot as plt\n",
    "import seaborn as sns\n",
    "import statsmodels.api as sm\n",
    "from sklearn.model_selection import KFold\n",
    "from sklearn.ensemble import GradientBoostingClassifier, GradientBoostingRegressor\n",
    "from sklearn.ensemble import RandomForestClassifier, RandomForestRegressor"
   ]
  },
  {
   "cell_type": "code",
   "execution_count": 3,
   "metadata": {},
   "outputs": [],
   "source": [
    "pd.set_option('display.max_columns',100)\n",
    "pd.set_option('display.max_rows',100)"
   ]
  },
  {
   "cell_type": "markdown",
   "metadata": {},
   "source": [
    "## load data: a fictional telco company that provided home phone and Internet services https://www.kaggle.com/datasets/abdallahwagih/telco-customer-churn, originally from IBM website"
   ]
  },
  {
   "cell_type": "code",
   "execution_count": 5,
   "metadata": {},
   "outputs": [],
   "source": [
    "df = pd.read_excel(r\"C:\\Project\\Telco_customer_churn.xlsx\")"
   ]
  },
  {
   "cell_type": "code",
   "execution_count": 7,
   "metadata": {},
   "outputs": [
    {
     "data": {
      "text/html": [
       "<div>\n",
       "<style scoped>\n",
       "    .dataframe tbody tr th:only-of-type {\n",
       "        vertical-align: middle;\n",
       "    }\n",
       "\n",
       "    .dataframe tbody tr th {\n",
       "        vertical-align: top;\n",
       "    }\n",
       "\n",
       "    .dataframe thead th {\n",
       "        text-align: right;\n",
       "    }\n",
       "</style>\n",
       "<table border=\"1\" class=\"dataframe\">\n",
       "  <thead>\n",
       "    <tr style=\"text-align: right;\">\n",
       "      <th></th>\n",
       "      <th>CustomerID</th>\n",
       "      <th>Count</th>\n",
       "      <th>Country</th>\n",
       "      <th>State</th>\n",
       "      <th>City</th>\n",
       "      <th>Zip Code</th>\n",
       "      <th>Lat Long</th>\n",
       "      <th>Latitude</th>\n",
       "      <th>Longitude</th>\n",
       "      <th>Gender</th>\n",
       "      <th>Senior Citizen</th>\n",
       "      <th>Partner</th>\n",
       "      <th>Dependents</th>\n",
       "      <th>Tenure Months</th>\n",
       "      <th>Phone Service</th>\n",
       "      <th>Multiple Lines</th>\n",
       "      <th>Internet Service</th>\n",
       "      <th>Online Security</th>\n",
       "      <th>Online Backup</th>\n",
       "      <th>Device Protection</th>\n",
       "      <th>Tech Support</th>\n",
       "      <th>Streaming TV</th>\n",
       "      <th>Streaming Movies</th>\n",
       "      <th>Contract</th>\n",
       "      <th>Paperless Billing</th>\n",
       "      <th>Payment Method</th>\n",
       "      <th>Monthly Charges</th>\n",
       "      <th>Total Charges</th>\n",
       "      <th>Churn Label</th>\n",
       "      <th>Churn Value</th>\n",
       "      <th>Churn Score</th>\n",
       "      <th>CLTV</th>\n",
       "      <th>Churn Reason</th>\n",
       "    </tr>\n",
       "  </thead>\n",
       "  <tbody>\n",
       "    <tr>\n",
       "      <th>0</th>\n",
       "      <td>3668-QPYBK</td>\n",
       "      <td>1</td>\n",
       "      <td>United States</td>\n",
       "      <td>California</td>\n",
       "      <td>Los Angeles</td>\n",
       "      <td>90003</td>\n",
       "      <td>33.964131, -118.272783</td>\n",
       "      <td>33.964131</td>\n",
       "      <td>-118.272783</td>\n",
       "      <td>Male</td>\n",
       "      <td>No</td>\n",
       "      <td>No</td>\n",
       "      <td>No</td>\n",
       "      <td>2</td>\n",
       "      <td>Yes</td>\n",
       "      <td>No</td>\n",
       "      <td>DSL</td>\n",
       "      <td>Yes</td>\n",
       "      <td>Yes</td>\n",
       "      <td>No</td>\n",
       "      <td>No</td>\n",
       "      <td>No</td>\n",
       "      <td>No</td>\n",
       "      <td>Month-to-month</td>\n",
       "      <td>Yes</td>\n",
       "      <td>Mailed check</td>\n",
       "      <td>53.85</td>\n",
       "      <td>108.15</td>\n",
       "      <td>Yes</td>\n",
       "      <td>1</td>\n",
       "      <td>86</td>\n",
       "      <td>3239</td>\n",
       "      <td>Competitor made better offer</td>\n",
       "    </tr>\n",
       "    <tr>\n",
       "      <th>1</th>\n",
       "      <td>9237-HQITU</td>\n",
       "      <td>1</td>\n",
       "      <td>United States</td>\n",
       "      <td>California</td>\n",
       "      <td>Los Angeles</td>\n",
       "      <td>90005</td>\n",
       "      <td>34.059281, -118.30742</td>\n",
       "      <td>34.059281</td>\n",
       "      <td>-118.307420</td>\n",
       "      <td>Female</td>\n",
       "      <td>No</td>\n",
       "      <td>No</td>\n",
       "      <td>Yes</td>\n",
       "      <td>2</td>\n",
       "      <td>Yes</td>\n",
       "      <td>No</td>\n",
       "      <td>Fiber optic</td>\n",
       "      <td>No</td>\n",
       "      <td>No</td>\n",
       "      <td>No</td>\n",
       "      <td>No</td>\n",
       "      <td>No</td>\n",
       "      <td>No</td>\n",
       "      <td>Month-to-month</td>\n",
       "      <td>Yes</td>\n",
       "      <td>Electronic check</td>\n",
       "      <td>70.70</td>\n",
       "      <td>151.65</td>\n",
       "      <td>Yes</td>\n",
       "      <td>1</td>\n",
       "      <td>67</td>\n",
       "      <td>2701</td>\n",
       "      <td>Moved</td>\n",
       "    </tr>\n",
       "    <tr>\n",
       "      <th>2</th>\n",
       "      <td>9305-CDSKC</td>\n",
       "      <td>1</td>\n",
       "      <td>United States</td>\n",
       "      <td>California</td>\n",
       "      <td>Los Angeles</td>\n",
       "      <td>90006</td>\n",
       "      <td>34.048013, -118.293953</td>\n",
       "      <td>34.048013</td>\n",
       "      <td>-118.293953</td>\n",
       "      <td>Female</td>\n",
       "      <td>No</td>\n",
       "      <td>No</td>\n",
       "      <td>Yes</td>\n",
       "      <td>8</td>\n",
       "      <td>Yes</td>\n",
       "      <td>Yes</td>\n",
       "      <td>Fiber optic</td>\n",
       "      <td>No</td>\n",
       "      <td>No</td>\n",
       "      <td>Yes</td>\n",
       "      <td>No</td>\n",
       "      <td>Yes</td>\n",
       "      <td>Yes</td>\n",
       "      <td>Month-to-month</td>\n",
       "      <td>Yes</td>\n",
       "      <td>Electronic check</td>\n",
       "      <td>99.65</td>\n",
       "      <td>820.5</td>\n",
       "      <td>Yes</td>\n",
       "      <td>1</td>\n",
       "      <td>86</td>\n",
       "      <td>5372</td>\n",
       "      <td>Moved</td>\n",
       "    </tr>\n",
       "    <tr>\n",
       "      <th>3</th>\n",
       "      <td>7892-POOKP</td>\n",
       "      <td>1</td>\n",
       "      <td>United States</td>\n",
       "      <td>California</td>\n",
       "      <td>Los Angeles</td>\n",
       "      <td>90010</td>\n",
       "      <td>34.062125, -118.315709</td>\n",
       "      <td>34.062125</td>\n",
       "      <td>-118.315709</td>\n",
       "      <td>Female</td>\n",
       "      <td>No</td>\n",
       "      <td>Yes</td>\n",
       "      <td>Yes</td>\n",
       "      <td>28</td>\n",
       "      <td>Yes</td>\n",
       "      <td>Yes</td>\n",
       "      <td>Fiber optic</td>\n",
       "      <td>No</td>\n",
       "      <td>No</td>\n",
       "      <td>Yes</td>\n",
       "      <td>Yes</td>\n",
       "      <td>Yes</td>\n",
       "      <td>Yes</td>\n",
       "      <td>Month-to-month</td>\n",
       "      <td>Yes</td>\n",
       "      <td>Electronic check</td>\n",
       "      <td>104.80</td>\n",
       "      <td>3046.05</td>\n",
       "      <td>Yes</td>\n",
       "      <td>1</td>\n",
       "      <td>84</td>\n",
       "      <td>5003</td>\n",
       "      <td>Moved</td>\n",
       "    </tr>\n",
       "    <tr>\n",
       "      <th>4</th>\n",
       "      <td>0280-XJGEX</td>\n",
       "      <td>1</td>\n",
       "      <td>United States</td>\n",
       "      <td>California</td>\n",
       "      <td>Los Angeles</td>\n",
       "      <td>90015</td>\n",
       "      <td>34.039224, -118.266293</td>\n",
       "      <td>34.039224</td>\n",
       "      <td>-118.266293</td>\n",
       "      <td>Male</td>\n",
       "      <td>No</td>\n",
       "      <td>No</td>\n",
       "      <td>Yes</td>\n",
       "      <td>49</td>\n",
       "      <td>Yes</td>\n",
       "      <td>Yes</td>\n",
       "      <td>Fiber optic</td>\n",
       "      <td>No</td>\n",
       "      <td>Yes</td>\n",
       "      <td>Yes</td>\n",
       "      <td>No</td>\n",
       "      <td>Yes</td>\n",
       "      <td>Yes</td>\n",
       "      <td>Month-to-month</td>\n",
       "      <td>Yes</td>\n",
       "      <td>Bank transfer (automatic)</td>\n",
       "      <td>103.70</td>\n",
       "      <td>5036.3</td>\n",
       "      <td>Yes</td>\n",
       "      <td>1</td>\n",
       "      <td>89</td>\n",
       "      <td>5340</td>\n",
       "      <td>Competitor had better devices</td>\n",
       "    </tr>\n",
       "  </tbody>\n",
       "</table>\n",
       "</div>"
      ],
      "text/plain": [
       "   CustomerID  Count        Country       State         City  Zip Code  \\\n",
       "0  3668-QPYBK      1  United States  California  Los Angeles     90003   \n",
       "1  9237-HQITU      1  United States  California  Los Angeles     90005   \n",
       "2  9305-CDSKC      1  United States  California  Los Angeles     90006   \n",
       "3  7892-POOKP      1  United States  California  Los Angeles     90010   \n",
       "4  0280-XJGEX      1  United States  California  Los Angeles     90015   \n",
       "\n",
       "                 Lat Long   Latitude   Longitude  Gender Senior Citizen  \\\n",
       "0  33.964131, -118.272783  33.964131 -118.272783    Male             No   \n",
       "1   34.059281, -118.30742  34.059281 -118.307420  Female             No   \n",
       "2  34.048013, -118.293953  34.048013 -118.293953  Female             No   \n",
       "3  34.062125, -118.315709  34.062125 -118.315709  Female             No   \n",
       "4  34.039224, -118.266293  34.039224 -118.266293    Male             No   \n",
       "\n",
       "  Partner Dependents  Tenure Months Phone Service Multiple Lines  \\\n",
       "0      No         No              2           Yes             No   \n",
       "1      No        Yes              2           Yes             No   \n",
       "2      No        Yes              8           Yes            Yes   \n",
       "3     Yes        Yes             28           Yes            Yes   \n",
       "4      No        Yes             49           Yes            Yes   \n",
       "\n",
       "  Internet Service Online Security Online Backup Device Protection  \\\n",
       "0              DSL             Yes           Yes                No   \n",
       "1      Fiber optic              No            No                No   \n",
       "2      Fiber optic              No            No               Yes   \n",
       "3      Fiber optic              No            No               Yes   \n",
       "4      Fiber optic              No           Yes               Yes   \n",
       "\n",
       "  Tech Support Streaming TV Streaming Movies        Contract  \\\n",
       "0           No           No               No  Month-to-month   \n",
       "1           No           No               No  Month-to-month   \n",
       "2           No          Yes              Yes  Month-to-month   \n",
       "3          Yes          Yes              Yes  Month-to-month   \n",
       "4           No          Yes              Yes  Month-to-month   \n",
       "\n",
       "  Paperless Billing             Payment Method  Monthly Charges Total Charges  \\\n",
       "0               Yes               Mailed check            53.85        108.15   \n",
       "1               Yes           Electronic check            70.70        151.65   \n",
       "2               Yes           Electronic check            99.65         820.5   \n",
       "3               Yes           Electronic check           104.80       3046.05   \n",
       "4               Yes  Bank transfer (automatic)           103.70        5036.3   \n",
       "\n",
       "  Churn Label  Churn Value  Churn Score  CLTV                   Churn Reason  \n",
       "0         Yes            1           86  3239   Competitor made better offer  \n",
       "1         Yes            1           67  2701                          Moved  \n",
       "2         Yes            1           86  5372                          Moved  \n",
       "3         Yes            1           84  5003                          Moved  \n",
       "4         Yes            1           89  5340  Competitor had better devices  "
      ]
     },
     "execution_count": 7,
     "metadata": {},
     "output_type": "execute_result"
    }
   ],
   "source": [
    "df.head()"
   ]
  },
  {
   "cell_type": "code",
   "execution_count": 9,
   "metadata": {},
   "outputs": [
    {
     "data": {
      "text/html": [
       "<div>\n",
       "<style scoped>\n",
       "    .dataframe tbody tr th:only-of-type {\n",
       "        vertical-align: middle;\n",
       "    }\n",
       "\n",
       "    .dataframe tbody tr th {\n",
       "        vertical-align: top;\n",
       "    }\n",
       "\n",
       "    .dataframe thead th {\n",
       "        text-align: right;\n",
       "    }\n",
       "</style>\n",
       "<table border=\"1\" class=\"dataframe\">\n",
       "  <thead>\n",
       "    <tr style=\"text-align: right;\">\n",
       "      <th></th>\n",
       "      <th>Count</th>\n",
       "      <th>Zip Code</th>\n",
       "      <th>Latitude</th>\n",
       "      <th>Longitude</th>\n",
       "      <th>Tenure Months</th>\n",
       "      <th>Monthly Charges</th>\n",
       "      <th>Churn Value</th>\n",
       "      <th>Churn Score</th>\n",
       "      <th>CLTV</th>\n",
       "    </tr>\n",
       "  </thead>\n",
       "  <tbody>\n",
       "    <tr>\n",
       "      <th>count</th>\n",
       "      <td>7043.0</td>\n",
       "      <td>7043.000000</td>\n",
       "      <td>7043.000000</td>\n",
       "      <td>7043.000000</td>\n",
       "      <td>7043.000000</td>\n",
       "      <td>7043.000000</td>\n",
       "      <td>7043.000000</td>\n",
       "      <td>7043.000000</td>\n",
       "      <td>7043.000000</td>\n",
       "    </tr>\n",
       "    <tr>\n",
       "      <th>mean</th>\n",
       "      <td>1.0</td>\n",
       "      <td>93521.964646</td>\n",
       "      <td>36.282441</td>\n",
       "      <td>-119.798880</td>\n",
       "      <td>32.371149</td>\n",
       "      <td>64.761692</td>\n",
       "      <td>0.265370</td>\n",
       "      <td>58.699418</td>\n",
       "      <td>4400.295755</td>\n",
       "    </tr>\n",
       "    <tr>\n",
       "      <th>std</th>\n",
       "      <td>0.0</td>\n",
       "      <td>1865.794555</td>\n",
       "      <td>2.455723</td>\n",
       "      <td>2.157889</td>\n",
       "      <td>24.559481</td>\n",
       "      <td>30.090047</td>\n",
       "      <td>0.441561</td>\n",
       "      <td>21.525131</td>\n",
       "      <td>1183.057152</td>\n",
       "    </tr>\n",
       "    <tr>\n",
       "      <th>min</th>\n",
       "      <td>1.0</td>\n",
       "      <td>90001.000000</td>\n",
       "      <td>32.555828</td>\n",
       "      <td>-124.301372</td>\n",
       "      <td>0.000000</td>\n",
       "      <td>18.250000</td>\n",
       "      <td>0.000000</td>\n",
       "      <td>5.000000</td>\n",
       "      <td>2003.000000</td>\n",
       "    </tr>\n",
       "    <tr>\n",
       "      <th>25%</th>\n",
       "      <td>1.0</td>\n",
       "      <td>92102.000000</td>\n",
       "      <td>34.030915</td>\n",
       "      <td>-121.815412</td>\n",
       "      <td>9.000000</td>\n",
       "      <td>35.500000</td>\n",
       "      <td>0.000000</td>\n",
       "      <td>40.000000</td>\n",
       "      <td>3469.000000</td>\n",
       "    </tr>\n",
       "    <tr>\n",
       "      <th>50%</th>\n",
       "      <td>1.0</td>\n",
       "      <td>93552.000000</td>\n",
       "      <td>36.391777</td>\n",
       "      <td>-119.730885</td>\n",
       "      <td>29.000000</td>\n",
       "      <td>70.350000</td>\n",
       "      <td>0.000000</td>\n",
       "      <td>61.000000</td>\n",
       "      <td>4527.000000</td>\n",
       "    </tr>\n",
       "    <tr>\n",
       "      <th>75%</th>\n",
       "      <td>1.0</td>\n",
       "      <td>95351.000000</td>\n",
       "      <td>38.224869</td>\n",
       "      <td>-118.043237</td>\n",
       "      <td>55.000000</td>\n",
       "      <td>89.850000</td>\n",
       "      <td>1.000000</td>\n",
       "      <td>75.000000</td>\n",
       "      <td>5380.500000</td>\n",
       "    </tr>\n",
       "    <tr>\n",
       "      <th>max</th>\n",
       "      <td>1.0</td>\n",
       "      <td>96161.000000</td>\n",
       "      <td>41.962127</td>\n",
       "      <td>-114.192901</td>\n",
       "      <td>72.000000</td>\n",
       "      <td>118.750000</td>\n",
       "      <td>1.000000</td>\n",
       "      <td>100.000000</td>\n",
       "      <td>6500.000000</td>\n",
       "    </tr>\n",
       "  </tbody>\n",
       "</table>\n",
       "</div>"
      ],
      "text/plain": [
       "        Count      Zip Code     Latitude    Longitude  Tenure Months  \\\n",
       "count  7043.0   7043.000000  7043.000000  7043.000000    7043.000000   \n",
       "mean      1.0  93521.964646    36.282441  -119.798880      32.371149   \n",
       "std       0.0   1865.794555     2.455723     2.157889      24.559481   \n",
       "min       1.0  90001.000000    32.555828  -124.301372       0.000000   \n",
       "25%       1.0  92102.000000    34.030915  -121.815412       9.000000   \n",
       "50%       1.0  93552.000000    36.391777  -119.730885      29.000000   \n",
       "75%       1.0  95351.000000    38.224869  -118.043237      55.000000   \n",
       "max       1.0  96161.000000    41.962127  -114.192901      72.000000   \n",
       "\n",
       "       Monthly Charges  Churn Value  Churn Score         CLTV  \n",
       "count      7043.000000  7043.000000  7043.000000  7043.000000  \n",
       "mean         64.761692     0.265370    58.699418  4400.295755  \n",
       "std          30.090047     0.441561    21.525131  1183.057152  \n",
       "min          18.250000     0.000000     5.000000  2003.000000  \n",
       "25%          35.500000     0.000000    40.000000  3469.000000  \n",
       "50%          70.350000     0.000000    61.000000  4527.000000  \n",
       "75%          89.850000     1.000000    75.000000  5380.500000  \n",
       "max         118.750000     1.000000   100.000000  6500.000000  "
      ]
     },
     "execution_count": 9,
     "metadata": {},
     "output_type": "execute_result"
    }
   ],
   "source": [
    "df.describe()"
   ]
  },
  {
   "cell_type": "code",
   "execution_count": 11,
   "metadata": {},
   "outputs": [
    {
     "data": {
      "text/html": [
       "<div>\n",
       "<style scoped>\n",
       "    .dataframe tbody tr th:only-of-type {\n",
       "        vertical-align: middle;\n",
       "    }\n",
       "\n",
       "    .dataframe tbody tr th {\n",
       "        vertical-align: top;\n",
       "    }\n",
       "\n",
       "    .dataframe thead th {\n",
       "        text-align: right;\n",
       "    }\n",
       "</style>\n",
       "<table border=\"1\" class=\"dataframe\">\n",
       "  <thead>\n",
       "    <tr style=\"text-align: right;\">\n",
       "      <th></th>\n",
       "      <th>CustomerID</th>\n",
       "      <th>Country</th>\n",
       "      <th>State</th>\n",
       "      <th>City</th>\n",
       "      <th>Lat Long</th>\n",
       "      <th>Gender</th>\n",
       "      <th>Senior Citizen</th>\n",
       "      <th>Partner</th>\n",
       "      <th>Dependents</th>\n",
       "      <th>Phone Service</th>\n",
       "      <th>Multiple Lines</th>\n",
       "      <th>Internet Service</th>\n",
       "      <th>Online Security</th>\n",
       "      <th>Online Backup</th>\n",
       "      <th>Device Protection</th>\n",
       "      <th>Tech Support</th>\n",
       "      <th>Streaming TV</th>\n",
       "      <th>Streaming Movies</th>\n",
       "      <th>Contract</th>\n",
       "      <th>Paperless Billing</th>\n",
       "      <th>Payment Method</th>\n",
       "      <th>Total Charges</th>\n",
       "      <th>Churn Label</th>\n",
       "      <th>Churn Reason</th>\n",
       "    </tr>\n",
       "  </thead>\n",
       "  <tbody>\n",
       "    <tr>\n",
       "      <th>count</th>\n",
       "      <td>7043</td>\n",
       "      <td>7043</td>\n",
       "      <td>7043</td>\n",
       "      <td>7043</td>\n",
       "      <td>7043</td>\n",
       "      <td>7043</td>\n",
       "      <td>7043</td>\n",
       "      <td>7043</td>\n",
       "      <td>7043</td>\n",
       "      <td>7043</td>\n",
       "      <td>7043</td>\n",
       "      <td>7043</td>\n",
       "      <td>7043</td>\n",
       "      <td>7043</td>\n",
       "      <td>7043</td>\n",
       "      <td>7043</td>\n",
       "      <td>7043</td>\n",
       "      <td>7043</td>\n",
       "      <td>7043</td>\n",
       "      <td>7043</td>\n",
       "      <td>7043</td>\n",
       "      <td>7043.0</td>\n",
       "      <td>7043</td>\n",
       "      <td>1869</td>\n",
       "    </tr>\n",
       "    <tr>\n",
       "      <th>unique</th>\n",
       "      <td>7043</td>\n",
       "      <td>1</td>\n",
       "      <td>1</td>\n",
       "      <td>1129</td>\n",
       "      <td>1652</td>\n",
       "      <td>2</td>\n",
       "      <td>2</td>\n",
       "      <td>2</td>\n",
       "      <td>2</td>\n",
       "      <td>2</td>\n",
       "      <td>3</td>\n",
       "      <td>3</td>\n",
       "      <td>3</td>\n",
       "      <td>3</td>\n",
       "      <td>3</td>\n",
       "      <td>3</td>\n",
       "      <td>3</td>\n",
       "      <td>3</td>\n",
       "      <td>3</td>\n",
       "      <td>2</td>\n",
       "      <td>4</td>\n",
       "      <td>6531.0</td>\n",
       "      <td>2</td>\n",
       "      <td>20</td>\n",
       "    </tr>\n",
       "    <tr>\n",
       "      <th>top</th>\n",
       "      <td>3668-QPYBK</td>\n",
       "      <td>United States</td>\n",
       "      <td>California</td>\n",
       "      <td>Los Angeles</td>\n",
       "      <td>33.964131, -118.272783</td>\n",
       "      <td>Male</td>\n",
       "      <td>No</td>\n",
       "      <td>No</td>\n",
       "      <td>No</td>\n",
       "      <td>Yes</td>\n",
       "      <td>No</td>\n",
       "      <td>Fiber optic</td>\n",
       "      <td>No</td>\n",
       "      <td>No</td>\n",
       "      <td>No</td>\n",
       "      <td>No</td>\n",
       "      <td>No</td>\n",
       "      <td>No</td>\n",
       "      <td>Month-to-month</td>\n",
       "      <td>Yes</td>\n",
       "      <td>Electronic check</td>\n",
       "      <td>20.2</td>\n",
       "      <td>No</td>\n",
       "      <td>Attitude of support person</td>\n",
       "    </tr>\n",
       "    <tr>\n",
       "      <th>freq</th>\n",
       "      <td>1</td>\n",
       "      <td>7043</td>\n",
       "      <td>7043</td>\n",
       "      <td>305</td>\n",
       "      <td>5</td>\n",
       "      <td>3555</td>\n",
       "      <td>5901</td>\n",
       "      <td>3641</td>\n",
       "      <td>5416</td>\n",
       "      <td>6361</td>\n",
       "      <td>3390</td>\n",
       "      <td>3096</td>\n",
       "      <td>3498</td>\n",
       "      <td>3088</td>\n",
       "      <td>3095</td>\n",
       "      <td>3473</td>\n",
       "      <td>2810</td>\n",
       "      <td>2785</td>\n",
       "      <td>3875</td>\n",
       "      <td>4171</td>\n",
       "      <td>2365</td>\n",
       "      <td>11.0</td>\n",
       "      <td>5174</td>\n",
       "      <td>192</td>\n",
       "    </tr>\n",
       "  </tbody>\n",
       "</table>\n",
       "</div>"
      ],
      "text/plain": [
       "        CustomerID        Country       State         City  \\\n",
       "count         7043           7043        7043         7043   \n",
       "unique        7043              1           1         1129   \n",
       "top     3668-QPYBK  United States  California  Los Angeles   \n",
       "freq             1           7043        7043          305   \n",
       "\n",
       "                      Lat Long Gender Senior Citizen Partner Dependents  \\\n",
       "count                     7043   7043           7043    7043       7043   \n",
       "unique                    1652      2              2       2          2   \n",
       "top     33.964131, -118.272783   Male             No      No         No   \n",
       "freq                         5   3555           5901    3641       5416   \n",
       "\n",
       "       Phone Service Multiple Lines Internet Service Online Security  \\\n",
       "count           7043           7043             7043            7043   \n",
       "unique             2              3                3               3   \n",
       "top              Yes             No      Fiber optic              No   \n",
       "freq            6361           3390             3096            3498   \n",
       "\n",
       "       Online Backup Device Protection Tech Support Streaming TV  \\\n",
       "count           7043              7043         7043         7043   \n",
       "unique             3                 3            3            3   \n",
       "top               No                No           No           No   \n",
       "freq            3088              3095         3473         2810   \n",
       "\n",
       "       Streaming Movies        Contract Paperless Billing    Payment Method  \\\n",
       "count              7043            7043              7043              7043   \n",
       "unique                3               3                 2                 4   \n",
       "top                  No  Month-to-month               Yes  Electronic check   \n",
       "freq               2785            3875              4171              2365   \n",
       "\n",
       "        Total Charges Churn Label                Churn Reason  \n",
       "count          7043.0        7043                        1869  \n",
       "unique         6531.0           2                          20  \n",
       "top              20.2          No  Attitude of support person  \n",
       "freq             11.0        5174                         192  "
      ]
     },
     "execution_count": 11,
     "metadata": {},
     "output_type": "execute_result"
    }
   ],
   "source": [
    "df.select_dtypes(include=['object', 'category']).describe()"
   ]
  },
  {
   "cell_type": "markdown",
   "metadata": {},
   "source": [
    "## data cleaning: missing, duplicates"
   ]
  },
  {
   "cell_type": "code",
   "execution_count": 13,
   "metadata": {},
   "outputs": [
    {
     "data": {
      "text/plain": [
       "CustomerID              0\n",
       "Count                   0\n",
       "Country                 0\n",
       "State                   0\n",
       "City                    0\n",
       "Zip Code                0\n",
       "Lat Long                0\n",
       "Latitude                0\n",
       "Longitude               0\n",
       "Gender                  0\n",
       "Senior Citizen          0\n",
       "Partner                 0\n",
       "Dependents              0\n",
       "Tenure Months           0\n",
       "Phone Service           0\n",
       "Multiple Lines          0\n",
       "Internet Service        0\n",
       "Online Security         0\n",
       "Online Backup           0\n",
       "Device Protection       0\n",
       "Tech Support            0\n",
       "Streaming TV            0\n",
       "Streaming Movies        0\n",
       "Contract                0\n",
       "Paperless Billing       0\n",
       "Payment Method          0\n",
       "Monthly Charges         0\n",
       "Total Charges           0\n",
       "Churn Label             0\n",
       "Churn Value             0\n",
       "Churn Score             0\n",
       "CLTV                    0\n",
       "Churn Reason         5174\n",
       "dtype: int64"
      ]
     },
     "execution_count": 13,
     "metadata": {},
     "output_type": "execute_result"
    }
   ],
   "source": [
    "df.isnull().sum() # churn reason is missing for customers who stay"
   ]
  },
  {
   "cell_type": "code",
   "execution_count": 15,
   "metadata": {},
   "outputs": [
    {
     "data": {
      "text/plain": [
       "0"
      ]
     },
     "execution_count": 15,
     "metadata": {},
     "output_type": "execute_result"
    }
   ],
   "source": [
    "df.duplicated().sum()"
   ]
  },
  {
   "cell_type": "code",
   "execution_count": null,
   "metadata": {},
   "outputs": [],
   "source": []
  },
  {
   "cell_type": "markdown",
   "metadata": {},
   "source": [
    "### This dataset includes one indicator if custormers churn or not, and other information e.g. how much each customer pays monthly (Monthly Charges).\n",
    "\n",
    "### Both Churn and Monthly charges are important metrics for the phone and internet service provider to care about. What is the relationship between these two important metrics? \n",
    "\n",
    "### Without considering any other factos, we first run a simple model to look at their relationship"
   ]
  },
  {
   "cell_type": "markdown",
   "metadata": {},
   "source": [
    "### Navie Model: Churn ~ Monthly Charges"
   ]
  },
  {
   "cell_type": "code",
   "execution_count": 17,
   "metadata": {},
   "outputs": [
    {
     "name": "stdout",
     "output_type": "stream",
     "text": [
      "Optimization terminated successfully.\n",
      "         Current function value: 0.559294\n",
      "         Iterations 5\n",
      "        Logit Marginal Effects       \n",
      "=====================================\n",
      "Dep. Variable:            Churn Value\n",
      "Method:                          dydx\n",
      "At:                           overall\n",
      "===================================================================================\n",
      "                     dy/dx    std err          z      P>|z|      [0.025      0.975]\n",
      "-----------------------------------------------------------------------------------\n",
      "Monthly Charges     0.0029      0.000     16.831      0.000       0.003       0.003\n",
      "===================================================================================\n"
     ]
    }
   ],
   "source": [
    "monthly_charge = sm.add_constant(df[['Monthly Charges']])\n",
    "model = sm.Logit(df['Churn Value'], monthly_charge).fit()\n",
    "\n",
    "marginal_effects = model.get_margeff()\n",
    "print(marginal_effects.summary())"
   ]
  },
  {
   "cell_type": "markdown",
   "metadata": {},
   "source": [
    "### Now, check other factors related with both Churn and Monthly Charges, some examples are as shown below:"
   ]
  },
  {
   "cell_type": "code",
   "execution_count": 19,
   "metadata": {},
   "outputs": [],
   "source": [
    "df['Internet Service Value'] = np.where(\n",
    "    df['Internet Service'] == 'No internet service', 0, 1\n",
    ")\n",
    "\n",
    "for v in [\n",
    "    'Phone Service', \n",
    "    'Multiple Lines', \n",
    "    'Online Security', \n",
    "    'Online Backup', \n",
    "    'Device Protection', \n",
    "    'Tech Support',\n",
    "    'Streaming TV', # free service\n",
    "    'Streaming Movies' # free service\n",
    "]:\n",
    "    df[v + ' Value'] = np.where(\n",
    "    df[v] == 'Yes', 1, 0\n",
    ")\n",
    "\n",
    "df['n_service_paid'] = df[['Phone Service Value', \n",
    "    'Multiple Lines Value',\n",
    "    'Internet Service Value', \n",
    "    'Online Security Value', \n",
    "    'Online Backup Value', \n",
    "    'Device Protection Value', \n",
    "    'Tech Support Value']].sum(axis=1)\n",
    "\n",
    "df['n_service_internet_add_paid'] = df[[\n",
    "    'Online Security Value', \n",
    "    'Online Backup Value', \n",
    "    'Device Protection Value', \n",
    "    'Tech Support Value']].sum(axis=1)"
   ]
  },
  {
   "cell_type": "code",
   "execution_count": 21,
   "metadata": {},
   "outputs": [
    {
     "data": {
      "image/png": "[encoded data removed]",
      "text/plain": [
       "<Figure size 1200x400 with 2 Axes>"
      ]
     },
     "metadata": {},
     "output_type": "display_data"
    }
   ],
   "source": [
    "churn_mean = df.groupby('n_service_paid',observed=False)['Churn Value'].mean()\n",
    "charges_mean = df.groupby('n_service_paid',observed=False)['Monthly Charges'].mean()\n",
    "\n",
    "fig, ax = plt.subplots(1, 2, figsize=(12, 4)) \n",
    "\n",
    "ax[0].bar(churn_mean.index, churn_mean, color='skyblue')\n",
    "ax[0].set_title('Churn Rate by Number of Paid Services')\n",
    "ax[0].set_xlabel('Number of Paid Services')\n",
    "ax[0].set_ylabel('Churn Rate')\n",
    "\n",
    "ax[1].bar(charges_mean.index, charges_mean, color='orange')\n",
    "ax[1].set_title('Monthly Charges by Number of Paid Services')\n",
    "ax[1].set_xlabel('Number of Paid Services')\n",
    "ax[1].set_ylabel('Monthly Charges')\n",
    "\n",
    "plt.tight_layout() \n",
    "plt.show()"
   ]
  },
  {
   "cell_type": "code",
   "execution_count": 23,
   "metadata": {},
   "outputs": [
    {
     "data": {
      "image/png": "[encoded data removed]",
      "text/plain": [
       "<Figure size 1200x400 with 2 Axes>"
      ]
     },
     "metadata": {},
     "output_type": "display_data"
    }
   ],
   "source": [
    "churn_mean = df.groupby('Internet Service')['Churn Value'].mean()\n",
    "charges_mean = df.groupby('Internet Service')['Monthly Charges'].mean()\n",
    "\n",
    "fig, ax = plt.subplots(1, 2, figsize=(12, 4))  \n",
    "\n",
    "ax[0].bar(churn_mean.index, churn_mean, color='skyblue')\n",
    "ax[0].set_title('Churn Rate by Internet Service')\n",
    "ax[0].set_xlabel('Internet Service')\n",
    "ax[0].set_ylabel('Churn Rate')\n",
    "\n",
    "ax[1].bar(charges_mean.index, charges_mean, color='orange')\n",
    "ax[1].set_title('Monthly Charges by Internet Service')\n",
    "ax[1].set_xlabel('Internet Service')\n",
    "ax[1].set_ylabel('Monthly Charges')\n",
    "\n",
    "plt.tight_layout() \n",
    "plt.show()"
   ]
  },
  {
   "cell_type": "code",
   "execution_count": 25,
   "metadata": {},
   "outputs": [
    {
     "data": {
      "image/png": "[encoded data removed]",
      "text/plain": [
       "<Figure size 1200x400 with 2 Axes>"
      ]
     },
     "metadata": {},
     "output_type": "display_data"
    }
   ],
   "source": [
    "churn_mean = df.groupby('Contract')['Churn Value'].mean()\n",
    "charges_mean = df.groupby('Contract')['Monthly Charges'].mean()\n",
    "\n",
    "fig, ax = plt.subplots(1, 2, figsize=(12, 4))  \n",
    "\n",
    "ax[0].bar(churn_mean.index, churn_mean, color='skyblue')\n",
    "ax[0].set_title('Churn Rate by Internet Service')\n",
    "ax[0].set_xlabel('Contract')\n",
    "ax[0].set_ylabel('Churn Rate')\n",
    "\n",
    "ax[1].bar(charges_mean.index, charges_mean, color='orange')\n",
    "ax[1].set_title('Monthly Charges by Internet Service')\n",
    "ax[1].set_xlabel('Contract')\n",
    "ax[1].set_ylabel('Monthly Charges')\n",
    "\n",
    "plt.tight_layout() \n",
    "plt.show()"
   ]
  },
  {
   "cell_type": "code",
   "execution_count": null,
   "metadata": {},
   "outputs": [],
   "source": []
  },
  {
   "cell_type": "code",
   "execution_count": 27,
   "metadata": {},
   "outputs": [
    {
     "data": {
      "image/png": "[encoded data removed]",
      "text/plain": [
       "<Figure size 1200x400 with 2 Axes>"
      ]
     },
     "metadata": {},
     "output_type": "display_data"
    }
   ],
   "source": [
    "bins = [-1, 12, 24, 36, 48, 60, 72]\n",
    "labels = ['0-12', '13-24', '25-36', '37-48', '49-60', '61-72']\n",
    "df['Tenure Group'] = pd.cut(df['Tenure Months'], bins=bins, labels=labels, right=True)\n",
    "\n",
    "churn_mean = df.groupby('Tenure Group',observed=False)['Churn Value'].mean()\n",
    "charges_mean = df.groupby('Tenure Group',observed=False)['Monthly Charges'].mean()\n",
    "\n",
    "fig, ax = plt.subplots(1, 2, figsize=(12, 4)) \n",
    "\n",
    "ax[0].bar(churn_mean.index, churn_mean, color='skyblue')\n",
    "ax[0].set_title('Churn Rate by Tenure Group')\n",
    "ax[0].set_xlabel('Tenure Group')\n",
    "ax[0].set_ylabel('Churn Rate')\n",
    "\n",
    "ax[1].bar(charges_mean.index, charges_mean, color='orange')\n",
    "ax[1].set_title('Monthly Charges by Tenure Group')\n",
    "ax[1].set_xlabel('Tenure Group')\n",
    "ax[1].set_ylabel('Monthly Charges')\n",
    "\n",
    "plt.tight_layout() \n",
    "plt.show()"
   ]
  },
  {
   "cell_type": "code",
   "execution_count": null,
   "metadata": {},
   "outputs": [],
   "source": []
  },
  {
   "cell_type": "code",
   "execution_count": 29,
   "metadata": {},
   "outputs": [
    {
     "data": {
      "image/png": "[encoded data removed]",
      "text/plain": [
       "<Figure size 1200x400 with 2 Axes>"
      ]
     },
     "metadata": {},
     "output_type": "display_data"
    }
   ],
   "source": [
    "# Tech support is to pay for reducing waiting time for tech support, these customers pay more to save time\n",
    "\n",
    "cond = df['Tech Support'].isin(['Yes','No'])\n",
    "churn_mean = df[cond].groupby('Tech Support',observed=False)['Churn Value'].mean()\n",
    "charges_mean = df[cond].groupby('Tech Support',observed=False)['Monthly Charges'].mean()\n",
    "\n",
    "fig, ax = plt.subplots(1, 2, figsize=(12, 4)) \n",
    "ax[0].bar(churn_mean.index, churn_mean, color='skyblue')\n",
    "ax[0].set_title('Churn Rate by Tech Support Service')\n",
    "ax[0].set_xlabel('Tech Support')\n",
    "ax[0].set_ylabel('Churn Rate')\n",
    "\n",
    "ax[1].bar(charges_mean.index, charges_mean, color='orange')\n",
    "ax[1].set_title('Monthly Charges by Tech Support Service')\n",
    "ax[1].set_xlabel('Tech Support')\n",
    "ax[1].set_ylabel('Monthly Charges')\n",
    "\n",
    "plt.tight_layout() \n",
    "plt.show()"
   ]
  },
  {
   "cell_type": "code",
   "execution_count": null,
   "metadata": {},
   "outputs": [],
   "source": []
  },
  {
   "cell_type": "code",
   "execution_count": 31,
   "metadata": {},
   "outputs": [
    {
     "name": "stdout",
     "output_type": "stream",
     "text": [
      "      Tenure Months  Monthly Charges  Churn Value\n",
      "2234              0            52.55            0\n",
      "2438              0            20.25            0\n",
      "2568              0            80.85            0\n",
      "2667              0            25.75            0\n",
      "2856              0            56.05            0\n",
      "4331              0            19.85            0\n",
      "4687              0            25.35            0\n",
      "5104              0            20.00            0\n",
      "5719              0            19.70            0\n",
      "6772              0            73.35            0\n",
      "6840              0            61.90            0\n"
     ]
    }
   ],
   "source": [
    "missing_total_charges = df[df['Total Charges']==' ']\n",
    "print(missing_total_charges[['Tenure Months', 'Monthly Charges', 'Churn Value']])"
   ]
  },
  {
   "cell_type": "code",
   "execution_count": 33,
   "metadata": {},
   "outputs": [
    {
     "data": {
      "image/png": "[encoded data removed]",
      "text/plain": [
       "<Figure size 1200x400 with 2 Axes>"
      ]
     },
     "metadata": {},
     "output_type": "display_data"
    }
   ],
   "source": [
    "df['Calculated Total Charges'] = df['Tenure Months'] * df['Monthly Charges']\n",
    "cond = df['Total Charges']==' '\n",
    "df.loc[cond,'Total Charges'] = 0 # 11 new customers with tenure months being 0, no charge yet\n",
    "df['Discount/Upgrade Flag'] = np.where(df['Total Charges'] < df['Calculated Total Charges'], 1, 0)\n",
    "# these cutomers have calculated total charges smaller than actual total charges, either have discount or have upgraded plans\n",
    "\n",
    "churn_mean = df.groupby('Discount/Upgrade Flag',observed=False)['Churn Value'].mean()\n",
    "charges_mean = df.groupby('Discount/Upgrade Flag',observed=False)['Monthly Charges'].mean()\n",
    "\n",
    "fig, ax = plt.subplots(1, 2, figsize=(12, 4))  \n",
    "\n",
    "ax[0].bar(churn_mean.index.astype(str), churn_mean, color='skyblue')\n",
    "ax[0].set_title('Churn Rate by Discount/Upgrade Flag')\n",
    "ax[0].set_xlabel('Discount/Upgrade Flag')\n",
    "ax[0].set_ylabel('Churn Rate')\n",
    "\n",
    "ax[1].bar(charges_mean.index.astype(str), charges_mean, color='orange')\n",
    "ax[1].set_title('Monthly Charges by Discount/Upgrade Flag')\n",
    "ax[1].set_xlabel('Discount/Upgrade Flag')\n",
    "ax[1].set_ylabel('Monthly Charges')\n",
    "\n",
    "plt.tight_layout() \n",
    "plt.show()"
   ]
  },
  {
   "cell_type": "code",
   "execution_count": null,
   "metadata": {},
   "outputs": [],
   "source": []
  },
  {
   "cell_type": "markdown",
   "metadata": {},
   "source": [
    "### Because there factors are related with both churn rate and monthly charges (confounders), we need to remove the potential effects of these confounders, in order to analyze a cleaner relationship between churn and monthly charges. One way to do this is to first predicting churn and monthly charges using confounders, then subtract predicted values from actual values to get residuals, finally analyze the relationship between these residual churn and residual monthly charges. "
   ]
  },
  {
   "cell_type": "markdown",
   "metadata": {},
   "source": [
    "### Double ML model: Churn ~ Monthly Charges, control possible confounders in flexible forms"
   ]
  },
  {
   "cell_type": "code",
   "execution_count": 35,
   "metadata": {},
   "outputs": [],
   "source": [
    "contract_mapping = {'Month-to-month': 0, 'One year': 1, 'Two year': 2}\n",
    "df['Contract_Ordinal'] = df['Contract'].map(contract_mapping)"
   ]
  },
  {
   "cell_type": "code",
   "execution_count": 37,
   "metadata": {},
   "outputs": [],
   "source": [
    "confounders = [\n",
    "    'Partner', 'Dependents', 'Senior Citizen', 'Tenure Months',\n",
    "    'Contract_Ordinal', 'Paperless Billing', 'Payment Method',\n",
    "    'Discount/Upgrade Flag', 'n_service_internet_add_paid'\n",
    "]\n",
    "\n",
    "categorical = ['Senior Citizen', 'Partner', 'Dependents', 'Paperless Billing', 'Payment Method', \n",
    "               'Tenure Group']\n",
    "\n",
    "numerical = ['Contract_Ordinal', 'Discount/Upgrade Flag', 'n_service_internet_add_paid']\n",
    "\n",
    "X_cat = pd.get_dummies(df[categorical], drop_first=True).astype(int)\n",
    "X_num = df[numerical]\n",
    "X = pd.concat([X_cat, X_num], axis=1)"
   ]
  },
  {
   "cell_type": "code",
   "execution_count": 39,
   "metadata": {},
   "outputs": [
    {
     "name": "stdout",
     "output_type": "stream",
     "text": [
      "                 Coefficient  Std.Err.  t-value  P>|t|  [0.025  0.975]\n",
      "Monthly Charges       0.0037    0.0003   14.774    0.0  0.0032  0.0042\n"
     ]
    }
   ],
   "source": [
    "# cross-fitting\n",
    "cv = KFold(n_splits=3, shuffle=True, random_state=42)\n",
    "t_residuals = np.zeros(len(df))\n",
    "y_residuals = np.zeros(len(df))\n",
    "\n",
    "# Step 1: predict and calculate residuals for T and Y, using X\n",
    "for train_idx, test_idx in cv.split(df):\n",
    "    # train test split\n",
    "    df_train, df_test = df.iloc[train_idx], df.iloc[test_idx]\n",
    "    X_train, X_test = X.iloc[train_idx], X.iloc[test_idx]\n",
    "    \n",
    "    # Train and predict continuous T using regressor, then calculate residual of T\n",
    "    model_t = GradientBoostingRegressor(n_estimators=100, max_depth=6, learning_rate=0.1, random_state=42)\\\n",
    "    .fit(X_train, df_train['Monthly Charges'])\n",
    "    t_pred = model_t.predict(X_test)\n",
    "    t_residuals[test_idx] = df_test['Monthly Charges'] - t_pred\n",
    "    \n",
    "    # Train and predict Y probabilities (binary) using classifier, then calculate residual of Y\n",
    "    model_y = GradientBoostingClassifier(n_estimators=100, max_depth=6, learning_rate=0.1, random_state=42)\\\n",
    "    .fit(X_train, df_train['Churn Value'])\n",
    "    y_proba = model_y.predict_proba(X_test)[:, 1]  \n",
    "    y_residuals[test_idx] = df_test['Churn Value'] - y_proba\n",
    "\n",
    "\n",
    "# Step 2: Final linear model (Y_residual ~ T_residual)\n",
    "final_model = sm.OLS(y_residuals, sm.add_constant(np.column_stack([t_residuals]))).fit(cov_type='HC1')\n",
    "\n",
    "results_df = pd.DataFrame({\n",
    "    'Coefficient': final_model.params,\n",
    "    'Std.Err.': final_model.bse,\n",
    "    't-value': final_model.tvalues,\n",
    "    'P>|t|': final_model.pvalues,\n",
    "    '[0.025': final_model.conf_int()[:,0],\n",
    "    '0.975]': final_model.conf_int()[:,1]\n",
    "})\n",
    "\n",
    "results_df.index = [\n",
    "    'Intercept',\n",
    "    'Monthly Charges'\n",
    "]\n",
    "\n",
    "monthly_charge_results = results_df.loc[['Monthly Charges']].round(4)\n",
    "print(monthly_charge_results)"
   ]
  },
  {
   "cell_type": "markdown",
   "metadata": {},
   "source": [
    "### Average effect: a $10 decrease (increase) in monthly charges would decrease (increase) the churn rate by 3.7%, which is statistically significant. With the average churn rate being 27%, such effect is a relative decrease (increase) of 14%. "
   ]
  },
  {
   "cell_type": "code",
   "execution_count": null,
   "metadata": {},
   "outputs": [],
   "source": []
  },
  {
   "cell_type": "markdown",
   "metadata": {},
   "source": [
    "### Robustness Check: using different models for predicting churn and monthly charges using cofounders"
   ]
  },
  {
   "cell_type": "code",
   "execution_count": 42,
   "metadata": {},
   "outputs": [
    {
     "name": "stdout",
     "output_type": "stream",
     "text": [
      "                 Coefficient  Std.Err.  t-value  P>|t|  [0.025  0.975]\n",
      "Monthly Charges       0.0035    0.0003  13.7401    0.0   0.003   0.004\n"
     ]
    }
   ],
   "source": [
    "# cross-fitting\n",
    "cv = KFold(n_splits=3, shuffle=True, random_state=42)\n",
    "t_residuals = np.zeros(len(df))\n",
    "y_residuals = np.zeros(len(df))\n",
    "\n",
    "# Step 1: predict and calculate residuals for T and Y, using X\n",
    "for train_idx, test_idx in cv.split(df):\n",
    "    # train test split\n",
    "    df_train, df_test = df.iloc[train_idx], df.iloc[test_idx]\n",
    "    X_train, X_test = X.iloc[train_idx], X.iloc[test_idx]\n",
    "    \n",
    "    # Train and predict continuous T using regressor, then calculate residual of T\n",
    "    model_t = RandomForestRegressor(n_estimators=100, max_depth=6, random_state=42)\\\n",
    "    .fit(X_train, df_train['Monthly Charges'])\n",
    "    t_pred = model_t.predict(X_test)\n",
    "    t_residuals[test_idx] = df_test['Monthly Charges'] - t_pred\n",
    "    \n",
    "    # Train and predict Y probabilities (binary) using classifier, then calculate residual of Y\n",
    "    model_y = RandomForestClassifier(n_estimators=100, max_depth=6, random_state=42)\\\n",
    "    .fit(X_train, df_train['Churn Value'])\n",
    "    y_proba = model_y.predict_proba(X_test)[:, 1]  \n",
    "    y_residuals[test_idx] = df_test['Churn Value'] - y_proba\n",
    "\n",
    "\n",
    "# Step 2: Final linear model (Y_residual ~ T_residual)\n",
    "final_model = sm.OLS(y_residuals, sm.add_constant(np.column_stack([t_residuals]))).fit(cov_type='HC1')\n",
    "\n",
    "results_df = pd.DataFrame({\n",
    "    'Coefficient': final_model.params,\n",
    "    'Std.Err.': final_model.bse,\n",
    "    't-value': final_model.tvalues,\n",
    "    'P>|t|': final_model.pvalues,\n",
    "    '[0.025': final_model.conf_int()[:,0],\n",
    "    '0.975]': final_model.conf_int()[:,1]\n",
    "})\n",
    "\n",
    "results_df.index = [\n",
    "    'Intercept',\n",
    "    'Monthly Charges'\n",
    "]\n",
    "\n",
    "monthly_charge_results = results_df.loc[['Monthly Charges']].round(4)\n",
    "print(monthly_charge_results)"
   ]
  },
  {
   "cell_type": "markdown",
   "metadata": {},
   "source": [
    "### Heterogeneous effects: customers with tenure months <= 12"
   ]
  },
  {
   "cell_type": "code",
   "execution_count": 44,
   "metadata": {},
   "outputs": [
    {
     "name": "stdout",
     "output_type": "stream",
     "text": [
      "                                       Coefficient  Std.Err.  t-value   P>|t|  \\\n",
      "Monthly Charges                             0.0027    0.0003   9.7738  0.0000   \n",
      "Monthly Charges (Tenure Months <= 12)       0.0023    0.0006   3.9627  0.0001   \n",
      "\n",
      "                                       [0.025  0.975]  \n",
      "Monthly Charges                        0.0022  0.0033  \n",
      "Monthly Charges (Tenure Months <= 12)  0.0012  0.0035  \n"
     ]
    }
   ],
   "source": [
    "# Step 3: Final model with interaction \n",
    "short_tenure_indicator = (df['Tenure Months'] <= 12).astype(int).values  \n",
    "tenure_interaction = t_residuals * short_tenure_indicator\n",
    "X_final = sm.add_constant(np.column_stack([t_residuals, tenure_interaction]))  # Add intercept\n",
    "final_model_interaction = sm.OLS(y_residuals, X_final).fit(cov_type='HC1')\n",
    "\n",
    "results_df = pd.DataFrame({\n",
    "    'Coefficient': final_model_interaction.params,\n",
    "    'Std.Err.': final_model_interaction.bse,\n",
    "    't-value': final_model_interaction.tvalues,\n",
    "    'P>|t|': final_model_interaction.pvalues,\n",
    "    '[0.025': final_model_interaction.conf_int()[:,0],\n",
    "    '0.975]': final_model_interaction.conf_int()[:,1]\n",
    "})\n",
    "\n",
    "results_df.index = [\n",
    "    'Intercept',\n",
    "    'Monthly Charges',\n",
    "    'Monthly Charges (Tenure Months <= 12)'\n",
    "]\n",
    "\n",
    "monthly_charge_results = results_df.loc[['Monthly Charges','Monthly Charges (Tenure Months <= 12)']].round(4)\n",
    "print(monthly_charge_results)"
   ]
  },
  {
   "cell_type": "markdown",
   "metadata": {},
   "source": [
    "### For short-term customers (Tenure Months <= 12):  (31% of total customers), a $10 decrease (increase) in monthly charges would decrease (increase) the churn rate by 5%. \n",
    "\n",
    "### Remember from before: Average effect: a $10 decrease (increase) in monthly charges would decrease (increase) the churn rate by 3.7%. With the average churn rate being 27%, such effect is a relative decrease (increase) of 14%. "
   ]
  },
  {
   "cell_type": "code",
   "execution_count": null,
   "metadata": {},
   "outputs": [],
   "source": []
  },
  {
   "cell_type": "code",
   "execution_count": 47,
   "metadata": {},
   "outputs": [
    {
     "data": {
      "text/plain": [
       "Churn Value\n",
       "0    4490.921337\n",
       "1    4149.414660\n",
       "Name: CLTV, dtype: float64"
      ]
     },
     "execution_count": 47,
     "metadata": {},
     "output_type": "execute_result"
    }
   ],
   "source": [
    "df.groupby('Churn Value')['CLTV'].mean()"
   ]
  },
  {
   "cell_type": "code",
   "execution_count": 49,
   "metadata": {},
   "outputs": [
    {
     "data": {
      "text/plain": [
       "count    7043.000000\n",
       "mean        0.265370\n",
       "std         0.441561\n",
       "min         0.000000\n",
       "25%         0.000000\n",
       "50%         0.000000\n",
       "75%         1.000000\n",
       "max         1.000000\n",
       "Name: Churn Value, dtype: float64"
      ]
     },
     "execution_count": 49,
     "metadata": {},
     "output_type": "execute_result"
    }
   ],
   "source": [
    "df['Churn Value'].describe()"
   ]
  },
  {
   "cell_type": "markdown",
   "metadata": {},
   "source": [
    "### Incorporate the information on customer life time value (CLTV) in the data: \n",
    "### There are 7043 customers in the data, and the average cutomer life time value is \\$4,149 for each customer who have churned.\n",
    "### A \\$10 decrease would decrease the churn rate by 3.7%, reduce the number of customers who churn by an amount of 261 (7043\\*3.7%), and reduce the loss in CLTV by 1,082,889 (261\\*4149), with the cost of 70,430 (7043\\*10)."
   ]
  },
  {
   "cell_type": "code",
   "execution_count": null,
   "metadata": {},
   "outputs": [],
   "source": []
  },
  {
   "cell_type": "code",
   "execution_count": 52,
   "metadata": {},
   "outputs": [
    {
     "data": {
      "text/plain": [
       "array(['Competitor made better offer', 'Moved',\n",
       "       'Competitor had better devices',\n",
       "       'Competitor offered higher download speeds',\n",
       "       'Competitor offered more data', 'Price too high',\n",
       "       'Product dissatisfaction', 'Service dissatisfaction',\n",
       "       'Lack of self-service on Website', 'Network reliability',\n",
       "       'Limited range of services',\n",
       "       'Lack of affordable download/upload speed',\n",
       "       'Long distance charges', 'Extra data charges', \"Don't know\",\n",
       "       'Poor expertise of online support',\n",
       "       'Poor expertise of phone support', 'Attitude of service provider',\n",
       "       'Attitude of support person', 'Deceased', nan], dtype=object)"
      ]
     },
     "execution_count": 52,
     "metadata": {},
     "output_type": "execute_result"
    }
   ],
   "source": [
    "df['Churn Reason'].unique()"
   ]
  },
  {
   "cell_type": "code",
   "execution_count": 56,
   "metadata": {},
   "outputs": [],
   "source": [
    "def categorize_reason(reason):\n",
    "    charges_related = ['Competitor made better offer', 'Price too high', 'Long distance charges', 'Extra data charges', \n",
    "                   'Lack of affordable download/upload speed']\n",
    "    product_related = ['Competitor had better devices', 'Competitor offered higher download speeds', 'Competitor offered more data', \n",
    "                   'Product dissatisfaction', 'Network reliability','Limited range of services']\n",
    "    service_related = ['Service dissatisfaction','Lack of self-service on Website', \n",
    "                   'Poor expertise of online support', 'Poor expertise of phone support', 'Attitude of service provider',\n",
    "                   'Attitude of support person'] \n",
    "    if reason in charges_related:\n",
    "        return 'charges_related'\n",
    "    elif reason in product_related:\n",
    "        return 'product_related'\n",
    "    elif reason in service_related:\n",
    "        return 'service_related'\n",
    "    elif pd.notna(reason):\n",
    "        return 'Other'\n"
   ]
  },
  {
   "cell_type": "code",
   "execution_count": 58,
   "metadata": {},
   "outputs": [
    {
     "data": {
      "text/plain": [
       "<Axes: title={'center': 'Estimated Effect of Monthly Charges on Churn by Reason Category'}, xlabel='Churn Reason Category'>"
      ]
     },
     "execution_count": 58,
     "metadata": {},
     "output_type": "execute_result"
    },
    {
     "data": {
      "image/png": "[encoded data removed]",
      "text/plain": [
       "<Figure size 640x480 with 1 Axes>"
      ]
     },
     "metadata": {},
     "output_type": "display_data"
    }
   ],
   "source": [
    "df_churned = df[df['Churn Value'] == 1].copy()\n",
    "df_churned['Churn Reason Category'] = df_churned['Churn Reason'].apply(categorize_reason)\n",
    "\n",
    "df_churned['cate_estimate'] = t_residuals[df_churned.index] * final_model.params[1]\n",
    "\n",
    "cate_by_reason = df_churned.groupby('Churn Reason Category')['cate_estimate'].mean().sort_values()\n",
    "cate_by_reason.plot(kind='bar', title='Estimated Effect of Monthly Charges on Churn by Reason Category')"
   ]
  },
  {
   "cell_type": "code",
   "execution_count": null,
   "metadata": {},
   "outputs": [],
   "source": []
  }
 ],
 "metadata": {
  "kaggle": {
   "accelerator": "none",
   "dataSources": [
    {
     "datasetId": 5855544,
     "sourceId": 9598780,
     "sourceType": "datasetVersion"
    }
   ],
   "dockerImageVersionId": 31012,
   "isGpuEnabled": false,
   "isInternetEnabled": true,
   "language": "python",
   "sourceType": "notebook"
  },
  "kernelspec": {
   "display_name": "Python [conda env:base] *",
   "language": "python",
   "name": "conda-base-py"
  },
  "language_info": {
   "codemirror_mode": {
    "name": "ipython",
    "version": 3
   },
   "file_extension": ".py",
   "mimetype": "text/x-python",
   "name": "python",
   "nbconvert_exporter": "python",
   "pygments_lexer": "ipython3",
   "version": "3.12.7"
  }
 },
 "nbformat": 4,
 "nbformat_minor": 4
}
